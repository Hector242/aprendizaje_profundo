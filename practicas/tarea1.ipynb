{
 "cells": [
  {
   "attachments": {},
   "cell_type": "markdown",
   "metadata": {},
   "source": [
    "## EJERCICIO\n",
    "1.  Completar las 9 derivadas parciales.\n",
    "2.  Implementar en Python la solución de XOR con la red\n",
    "neuronal planteada en clase. Utilizar SGD.\n",
    "3.  Graficar MSE por epoch."
   ]
  },
  {
   "cell_type": "code",
   "execution_count": 242,
   "metadata": {},
   "outputs": [],
   "source": [
    "# importing libraries\n",
    "import numpy as np\n",
    "import random\n",
    "from matplotlib import pyplot as plt"
   ]
  },
  {
   "cell_type": "code",
   "execution_count": 265,
   "metadata": {},
   "outputs": [],
   "source": [
    "class Sgd:\n",
    "    W1_1 = None # weights from neuron 1 layer 1\n",
    "    W2_1 = None # weights from neuron 2 layer 1\n",
    "    W1_2 = None # weights from neuron 1 layer 2\n",
    "\n",
    "    def __init__(self):\n",
    "        pass\n",
    "\n",
    "    def sigmoid(self, z):\n",
    "        sig = 1 / (1 + np.exp(-z))\n",
    "        return sig\n",
    "    \n",
    "    def forward(self, X, sample, W1_1, W2_1, W1_2):\n",
    "        # first layer\n",
    "        z1_1 = np.dot(X[sample,:], W1_1)\n",
    "        z1_1 = z1_1[0]\n",
    "        a1_1 = self.sigmoid(z1_1)\n",
    "\n",
    "        z2_1 = np.dot(X[sample,:], W2_1)\n",
    "        z2_1 = z2_1[0]\n",
    "        a2_1 = self.sigmoid(z2_1)\n",
    "\n",
    "        a_1 = np.array([a1_1,a2_1])\n",
    "        # second layer\n",
    "        z1_2 = np.dot(a_1, W1_2)\n",
    "        z1_2 = z1_2[0]\n",
    "        a1_2 = self.sigmoid(z1_2)\n",
    "        y_pred = a1_2\n",
    "        \n",
    "        return y_pred, z1_1, z2_1, z1_2, a_1\n",
    "\n",
    "    def fit(self, X, y, learning_rate, n_epochs):\n",
    "        n_samples, n_features = X.shape\n",
    "        n_neurons = 1\n",
    "        n_neurons_layer2 = 2\n",
    "        W1_1 = np.random.random(size=(n_features,n_neurons))\n",
    "        W2_1 = np.random.random(size=(n_features,n_neurons))\n",
    "        W1_2 = np.random.random(size=(n_neurons_layer2,1))\n",
    "    \n",
    "        for epoch in range(n_epochs):\n",
    "            mse = 0\n",
    "            for sample in range(n_samples):\n",
    "                # prediction with forward\n",
    "                predicting_row, z1_1, z2_1, z1_2,a_1 = self.forward(X, sample, W1_1, W2_1, W1_2)\n",
    "\n",
    "                # error\n",
    "                loss = np.power(y[sample] - predicting_row,2)\n",
    "                mse += loss\n",
    "\n",
    "                # backward and update\n",
    "                # Calculate the gradient\n",
    "                grad_W1_2 = (-2/n_samples) * (y[sample] - predicting_row) * a_1\n",
    "                grad_W2_1 = (-2/n_samples) * (y[sample] - predicting_row) * W1_2[1] * self.sigmoid(z2_1) * (1-self.sigmoid(z2_1)) * X[sample,:]\n",
    "                grad_W1_1 = (-2/n_samples) * (y[sample] - predicting_row) * W1_2[0] * self.sigmoid(z1_1) * (1-self.sigmoid(z1_1)) * X[sample,:]\n",
    "                \n",
    "                # Back propagation\n",
    "                W1_2 -= (learning_rate * grad_W1_2[:,np.newaxis])\n",
    "                W2_1 -=  (learning_rate * grad_W2_1[:,np.newaxis])\n",
    "                W1_1 -=  (learning_rate * grad_W1_1[:,np.newaxis])\n",
    "                \n",
    "            #print(f\"Prediccion con la epoca {epoch}: {prediction}\")\n",
    "            #print(f\"MSE con la epoca {epoch}: {mse_epoch}\")\n",
    "            # Print mse over epochs/10\n",
    "            if (epoch % (n_epochs/10)) == 0:\n",
    "                print(\"Epoch \",epoch,\" MSE: \",mse)\n",
    "\n",
    "        self.W1_2 = W1_2\n",
    "        self.W1_1 = W1_1\n",
    "        self.W2_1 = W2_1\n",
    "            #self.bias1 = bias1\n",
    "            #self.bias2 = bias2\n",
    "            #self.bias3 = bias3\n",
    "\n",
    "    def predict(self, X):\n",
    "        n_samples, n_features = X.shape\n",
    "        prediction = []\n",
    "        for sample in range(n_samples):\n",
    "            predicting, _, _,_,_ = self.forward(X, sample, self.W1_1, self.W2_1, self.W1_2 )\n",
    "            prediction.append(predicting)\n",
    "        \n",
    "        return np.array(prediction)"
   ]
  },
  {
   "cell_type": "code",
   "execution_count": 266,
   "metadata": {},
   "outputs": [
    {
     "name": "stdout",
     "output_type": "stream",
     "text": [
      "Epoch  0  MSE:  1.0783151195192147\n",
      "Epoch  5000  MSE:  0.2832054872172015\n",
      "Epoch  10000  MSE:  0.09827300761871866\n",
      "Epoch  15000  MSE:  0.04725556025426451\n",
      "Epoch  20000  MSE:  0.027169870950840093\n",
      "Epoch  25000  MSE:  0.017469067890327768\n",
      "Epoch  30000  MSE:  0.012115694862153433\n",
      "Epoch  35000  MSE:  0.00887222090491873\n",
      "Epoch  40000  MSE:  0.006767123663539699\n",
      "Epoch  45000  MSE:  0.005327022468698163\n"
     ]
    }
   ],
   "source": [
    "X = np.array([[0,0],[0,1],[1,0],[1,1]])\n",
    "y = np.array([0,1,1,0])\n",
    "\n",
    "lr = 0.1\n",
    "n_epoch = 50000\n",
    "\n",
    "model = Sgd()\n",
    "model.fit(X, y, lr, n_epoch)"
   ]
  },
  {
   "cell_type": "code",
   "execution_count": 267,
   "metadata": {},
   "outputs": [
    {
     "data": {
      "text/plain": [
       "array([0.00974098, 0.97054511, 0.97047738, 0.04314692])"
      ]
     },
     "execution_count": 267,
     "metadata": {},
     "output_type": "execute_result"
    }
   ],
   "source": [
    "predictions = model.predict(X)\n",
    "predictions"
   ]
  }
 ],
 "metadata": {
  "kernelspec": {
   "display_name": "Python 3",
   "language": "python",
   "name": "python3"
  },
  "language_info": {
   "codemirror_mode": {
    "name": "ipython",
    "version": 3
   },
   "file_extension": ".py",
   "mimetype": "text/x-python",
   "name": "python",
   "nbconvert_exporter": "python",
   "pygments_lexer": "ipython3",
   "version": "3.11.4"
  },
  "orig_nbformat": 4
 },
 "nbformat": 4,
 "nbformat_minor": 2
}
