{
 "cells": [
  {
   "attachments": {},
   "cell_type": "markdown",
   "metadata": {},
   "source": [
    "## EJERCICIO\n",
    "1.  Completar las 9 derivadas parciales.\n",
    "2.  Implementar en Python la solución de XOR con la red\n",
    "neuronal planteada en clase. Utilizar SGD.\n",
    "3.  Graficar MSE por epoch."
   ]
  },
  {
   "cell_type": "code",
   "execution_count": 1,
   "metadata": {},
   "outputs": [],
   "source": [
    "# importing libraries\n",
    "import numpy as np\n",
    "import random"
   ]
  },
  {
   "cell_type": "code",
   "execution_count": 45,
   "metadata": {},
   "outputs": [],
   "source": [
    "class Sgd:\n",
    "    \n",
    "    def __init__(self):\n",
    "        pass\n",
    "\n",
    "    def sigmoid(self, z):\n",
    "        sig = 1 / (1 + np.exp(-z))\n",
    "        return sig\n",
    "\n",
    "    def update(self,X, sample, W1_1, W2_1, W1_2, y, y_pred, learning_rate, z1_1, z2_1, bias, mse):\n",
    "\n",
    "        # second layer\n",
    "        grad_W1_1_2 = -2*(y[sample] - y_pred)* self.sigmoid(z1_1)\n",
    "        grad_W1_2_2 = -2*(y[sample] - y_pred)* self.sigmoid(z2_1)\n",
    "\n",
    "        W1_2[0] = W1_2[0] - (learning_rate * grad_W1_1_2)\n",
    "        W1_2[1] = W1_2[1] - (learning_rate * grad_W1_2_2)\n",
    "        \n",
    "        # first layer\n",
    "        grad_W1_1_1 = -2*(y[sample] - y_pred)*W1_2[0]*self.sigmoid(z1_1)*(1 - self.sigmoid(z1_1))*X[sample]\n",
    "        grad_W1_2_1 = -2*(y[sample] - y_pred)*W1_2[0]*self.sigmoid(z1_1)*(1 - self.sigmoid(z1_1))*X[sample]\n",
    "\n",
    "       \n",
    "        W1_1[0] = W1_1[0] - (learning_rate * np.sum(grad_W1_1_1))\n",
    "        W1_1[1] = W1_1[1] - (learning_rate * np.sum(grad_W1_2_1))\n",
    "\n",
    "        grad_W2_1_1 = -2*(y[sample] - y_pred)*W1_2[1]*self.sigmoid(z2_1)*(1 - self.sigmoid(z2_1))*X[sample,:]\n",
    "        grad_W2_2_1 = -2*(y[sample] - y_pred)*W1_2[1]*self.sigmoid(z2_1)*(1 - self.sigmoid(z2_1))*X[sample,:]\n",
    "\n",
    "        W2_1[1] = W2_1[0] - (learning_rate * np.sum(grad_W2_1_1))\n",
    "        W2_1[1] = W2_1[1] - (learning_rate * np.sum(grad_W2_2_1))\n",
    "\n",
    "        #bias = bias - (learning_rate * mse)\n",
    "        \n",
    "        return W1_2, W1_1, W2_1, bias\n",
    "        \n",
    "    def forward(self, X, sample, W1_1, W2_1, W1_2, bias):\n",
    "        # first layer\n",
    "        z1_1 = np.dot(X[sample], W1_1) + bias\n",
    "        z2_1 = np.dot(X[sample], W2_1) + bias\n",
    "        a1_1 = self.sigmoid(z1_1)\n",
    "        a2_1 = self.sigmoid(z2_1)\n",
    "        a_1 = np.array([a1_1,a2_1])\n",
    "\n",
    "        # second layer\n",
    "        z1_2 = np.dot(a_1, W1_2) + bias\n",
    "        a1_2 = self.sigmoid(z1_2)\n",
    "        y_pred = a1_2\n",
    "        \n",
    "        return y_pred, z1_1, z2_1\n",
    "\n",
    "    def sgd(self, X, y, learning_rate, n_epochs):\n",
    "        n_samples, n_features = X.shape\n",
    "        W1_1 = np.random.random(n_features)\n",
    "        W2_1 = np.random.random(n_features)\n",
    "        W1_2 = np.random.random(n_features)\n",
    "        bias = random.randint(0,9)\n",
    "        error = 0\n",
    "        mse = 0\n",
    "\n",
    "        print(f\"initial W1_1: {W1_1}\")\n",
    "        print(f\"initial W2_1: {W2_1}\")\n",
    "        print(f\"initial W1_2: {W1_2}\")\n",
    "        \n",
    "        \n",
    "        for epoch in range(n_epochs):\n",
    "            prediction = []\n",
    "            mse = []\n",
    "            for sample in range(n_samples):\n",
    "                # prediction with forward\n",
    "                predicting_row, z1_1, z2_1 = self.forward(X, sample, W1_1, W2_1, W1_2, bias)\n",
    "                prediction.append(predicting_row)\n",
    "\n",
    "                # error\n",
    "                loss = np.power(y[sample] - predicting_row,2)\n",
    "                mse.append(loss)\n",
    "\n",
    "                # backward and update\n",
    "                W1_2, W1_1, W2_1, bias = self.update(X, sample, W1_1, W2_1, W1_2, y, predicting_row, learning_rate, z1_1, z2_1, bias, mse)\n",
    "\n",
    "            print(f\"Prediccion con la epoca {epoch}: {prediction}\")\n",
    "            print(f\"MSE con la epoca {epoch}: {mse}\")\n",
    "        \n",
    "\n",
    "        return np.array(prediction), np.array(error)\n"
   ]
  },
  {
   "cell_type": "code",
   "execution_count": 46,
   "metadata": {},
   "outputs": [
    {
     "name": "stdout",
     "output_type": "stream",
     "text": [
      "initial W1_1: [0.62906061 0.32309636]\n",
      "initial W2_1: [0.64888884 0.5613978 ]\n",
      "initial W1_2: [0.37352462 0.90240968]\n",
      "Prediccion con la epoca 0: [0.9981064275053549, 0.9980372878716713, 0.9980383234754587, 0.9980420446312928]\n",
      "MSE con la epoca 0: [0.9962164406275024, 3.852238898688413e-06, 3.848174786936304e-06, 0.9960879228518114]\n",
      "Prediccion con la epoca 1: [0.9979514894547227, 0.9978762953159406, 0.9978773221642344, 0.9978811387149414]\n",
      "MSE con la epoca 1: [0.9959071753048995, 4.510121585095939e-06, 4.505761194450468e-06, 0.9957667670030282]\n"
     ]
    }
   ],
   "source": [
    "X = np.array([[0,0],[0,1],[1,0],[1,1]])\n",
    "y = np.array([0,1,1,0])\n",
    "\n",
    "lr = 0.01\n",
    "n_epoch = 2\n",
    "\n",
    "model = Sgd()\n",
    "predictions = model.sgd(X, y, lr, n_epoch)"
   ]
  },
  {
   "cell_type": "code",
   "execution_count": 215,
   "metadata": {},
   "outputs": [
    {
     "data": {
      "text/plain": [
       "array([3])"
      ]
     },
     "execution_count": 215,
     "metadata": {},
     "output_type": "execute_result"
    }
   ],
   "source": [
    "a = np.array([[4,2],[3,1]])\n",
    "a[1,:1]"
   ]
  },
  {
   "cell_type": "code",
   "execution_count": 284,
   "metadata": {},
   "outputs": [
    {
     "data": {
      "text/plain": [
       "array([2])"
      ]
     },
     "execution_count": 284,
     "metadata": {},
     "output_type": "execute_result"
    }
   ],
   "source": [
    "a[0,1:]"
   ]
  }
 ],
 "metadata": {
  "kernelspec": {
   "display_name": "Python 3",
   "language": "python",
   "name": "python3"
  },
  "language_info": {
   "codemirror_mode": {
    "name": "ipython",
    "version": 3
   },
   "file_extension": ".py",
   "mimetype": "text/x-python",
   "name": "python",
   "nbconvert_exporter": "python",
   "pygments_lexer": "ipython3",
   "version": "3.11.4"
  },
  "orig_nbformat": 4
 },
 "nbformat": 4,
 "nbformat_minor": 2
}
